{
 "cells": [
  {
   "cell_type": "markdown",
   "metadata": {},
   "source": [
    "# Simulacion\n",
    "Libreria random"
   ]
  },
  {
   "cell_type": "code",
   "execution_count": 3,
   "metadata": {},
   "outputs": [],
   "source": [
    "#librerias\n",
    "import random\n",
    "import collections\n",
    "from tabulate import tabulate\n"
   ]
  },
  {
   "cell_type": "code",
   "execution_count": 17,
   "metadata": {},
   "outputs": [
    {
     "name": "stdout",
     "output_type": "stream",
     "text": [
      "\n",
      "100  Eventos\n",
      " \n",
      "\n",
      "Suma Frecuencia Probabilidad\n",
      " 2        4       0.04\n",
      " 3        4       0.04\n",
      " 4        9       0.09\n",
      " 5        6       0.06\n",
      " 6        17       0.17\n",
      " 7        15       0.15\n",
      " 8        16       0.16\n",
      " 9        12       0.12\n",
      " 10        10       0.1\n",
      " 11        6       0.06\n",
      " 12        1       0.01\n"
     ]
    }
   ],
   "source": [
    "total=[]\n",
    "lista=[]\n",
    "print('')\n",
    "eventos=100\n",
    "print(eventos,' Eventos')\n",
    "print('','\\n')\n",
    "\n",
    "for j in range(eventos):\n",
    "    numero1=random.randint(1, 6)\n",
    "    lista.append(numero1)\n",
    "    numero2=random.randint(1, 6)\n",
    "    lista.append(numero2)\n",
    "    suma=numero1+numero2\n",
    "    total.append(suma)\n",
    "    \n",
    "cuenta1 = collections.Counter(total)    \n",
    "\n",
    "\n",
    "lista1 = list(set(cuenta1.elements()))\n",
    "lista1.sort()\n",
    "lista2=[]\n",
    "\n",
    "\n",
    "print('Suma','Frecuencia','Probabilidad')\n",
    "for i in range(len(lista1)):\n",
    "    a=lista1[i]\n",
    "    lista2.insert(0,a)\n",
    "    lista2.insert(1,cuenta1[a])\n",
    "    lista2.insert(2,cuenta1[a]/eventos)\n",
    "    print('',a,'      ',cuenta1[a],'     ',cuenta1[a]/eventos)\n",
    "    "
   ]
  },
  {
   "cell_type": "code",
   "execution_count": 16,
   "metadata": {},
   "outputs": [
    {
     "name": "stdout",
     "output_type": "stream",
     "text": [
      "\n",
      "1000  Eventos\n",
      " \n",
      "\n",
      "Suma Frecuencia Probabilidad\n",
      " 2        26       0.026\n",
      " 3        55       0.055\n",
      " 4        83       0.083\n",
      " 5        92       0.092\n",
      " 6        151       0.151\n",
      " 7        169       0.169\n",
      " 8        137       0.137\n",
      " 9        108       0.108\n",
      " 10        86       0.086\n",
      " 11        71       0.071\n",
      " 12        22       0.022\n"
     ]
    }
   ],
   "source": [
    "total=[]\n",
    "lista=[]\n",
    "print('')\n",
    "eventos=1000\n",
    "print(eventos,' Eventos')\n",
    "print('','\\n')\n",
    "\n",
    "for j in range(eventos):\n",
    "    numero1=random.randint(1, 6)\n",
    "    lista.append(numero1)\n",
    "    numero2=random.randint(1, 6)\n",
    "    lista.append(numero2)\n",
    "    suma=numero1+numero2\n",
    "    total.append(suma)\n",
    "    \n",
    "cuenta1 = collections.Counter(total)    \n",
    "\n",
    "\n",
    "lista1 = list(set(cuenta1.elements()))\n",
    "lista1.sort()\n",
    "lista2=[]\n",
    "\n",
    "\n",
    "print('Suma','Frecuencia','Probabilidad')\n",
    "for i in range(len(lista1)):\n",
    "    a=lista1[i]\n",
    "    lista2.insert(0,a)\n",
    "    lista2.insert(1,cuenta1[a])\n",
    "    lista2.insert(2,cuenta1[a]/eventos)\n",
    "    print('',a,'      ',cuenta1[a],'     ',cuenta1[a]/eventos)\n",
    "    "
   ]
  },
  {
   "cell_type": "code",
   "execution_count": 15,
   "metadata": {},
   "outputs": [
    {
     "name": "stdout",
     "output_type": "stream",
     "text": [
      "\n",
      "10000  Eventos\n",
      " \n",
      "\n",
      "Suma Frecuencia Probabilidad\n",
      " 2        286       0.0286\n",
      " 3        552       0.0552\n",
      " 4        815       0.0815\n",
      " 5        1125       0.1125\n",
      " 6        1373       0.1373\n",
      " 7        1728       0.1728\n",
      " 8        1320       0.132\n",
      " 9        1107       0.1107\n",
      " 10        805       0.0805\n",
      " 11        600       0.06\n",
      " 12        289       0.0289\n"
     ]
    }
   ],
   "source": [
    "total=[]\n",
    "lista=[]\n",
    "print('')\n",
    "eventos=10000\n",
    "print(eventos,' Eventos')\n",
    "print('','\\n')\n",
    "\n",
    "for j in range(eventos):\n",
    "    numero1=random.randint(1, 6)\n",
    "    lista.append(numero1)\n",
    "    numero2=random.randint(1, 6)\n",
    "    lista.append(numero2)\n",
    "    suma=numero1+numero2\n",
    "    total.append(suma)\n",
    "    \n",
    "cuenta1 = collections.Counter(total)    \n",
    "\n",
    "\n",
    "lista1 = list(set(cuenta1.elements()))\n",
    "lista1.sort()\n",
    "lista2=[]\n",
    "\n",
    "\n",
    "print('Suma','Frecuencia','Probabilidad')\n",
    "for i in range(len(lista1)):\n",
    "    a=lista1[i]\n",
    "    lista2.insert(0,a)\n",
    "    lista2.insert(1,cuenta1[a])\n",
    "    lista2.insert(2,cuenta1[a]/eventos)\n",
    "    print('',a,'      ',cuenta1[a],'     ',cuenta1[a]/eventos)\n",
    "    "
   ]
  },
  {
   "cell_type": "markdown",
   "metadata": {},
   "source": [
    "\n",
    "# Simulacion\n",
    "Libreria numpy\n",
    "\n"
   ]
  },
  {
   "cell_type": "code",
   "execution_count": 50,
   "metadata": {},
   "outputs": [],
   "source": [
    "import numpy as np\n"
   ]
  },
  {
   "cell_type": "code",
   "execution_count": 54,
   "metadata": {},
   "outputs": [
    {
     "name": "stdout",
     "output_type": "stream",
     "text": [
      "\n",
      "100  Eventos\n",
      " \n",
      "\n",
      "Suma Frecuencia Probabilidad\n",
      " 2        3       0.03\n",
      " 3        3       0.03\n",
      " 4        8       0.08\n",
      " 5        19       0.19\n",
      " 6        12       0.12\n",
      " 7        13       0.13\n",
      " 8        13       0.13\n",
      " 9        12       0.12\n",
      " 10        8       0.08\n",
      " 11        6       0.06\n",
      " 12        3       0.03\n"
     ]
    }
   ],
   "source": [
    "total=[]\n",
    "lista=[]\n",
    "print('')\n",
    "eventos=100\n",
    "print(eventos,' Eventos')\n",
    "print('','\\n')\n",
    "for j in range(eventos):\n",
    "    numero1=np.random.randint(1,7)\n",
    "    numero2=np.random.randint(1,7)\n",
    "    lista.append(numero1)\n",
    "    lista.append(numero2)\n",
    "    suma=numero1+numero2\n",
    "    total.append(suma)\n",
    "    \n",
    "cuenta1 = collections.Counter(total)    \n",
    "\n",
    "\n",
    "lista1 = list(set(cuenta1.elements()))\n",
    "lista1.sort()\n",
    "lista2=[]\n",
    "\n",
    "\n",
    "print('Suma','Frecuencia','Probabilidad')\n",
    "for i in range(len(lista1)):\n",
    "    a=lista1[i]\n",
    "    lista2.insert(0,a)\n",
    "    lista2.insert(1,cuenta1[a])\n",
    "    lista2.insert(2,cuenta1[a]/eventos)\n",
    "    print('',a,'      ',cuenta1[a],'     ',cuenta1[a]/eventos)"
   ]
  },
  {
   "cell_type": "code",
   "execution_count": 55,
   "metadata": {},
   "outputs": [
    {
     "name": "stdout",
     "output_type": "stream",
     "text": [
      "\n",
      "1000  Eventos\n",
      " \n",
      "\n",
      "Suma Frecuencia Probabilidad\n",
      " 2        33       0.033\n",
      " 3        57       0.057\n",
      " 4        81       0.081\n",
      " 5        112       0.112\n",
      " 6        142       0.142\n",
      " 7        170       0.17\n",
      " 8        140       0.14\n",
      " 9        100       0.1\n",
      " 10        76       0.076\n",
      " 11        57       0.057\n",
      " 12        32       0.032\n"
     ]
    }
   ],
   "source": [
    "total=[]\n",
    "lista=[]\n",
    "print('')\n",
    "eventos=1000\n",
    "print(eventos,' Eventos')\n",
    "print('','\\n')\n",
    "for j in range(eventos):\n",
    "    numero1=np.random.randint(1,7)\n",
    "    numero2=np.random.randint(1,7)\n",
    "    lista.append(numero1)\n",
    "    lista.append(numero2)\n",
    "    suma=numero1+numero2\n",
    "    total.append(suma)\n",
    "    \n",
    "cuenta1 = collections.Counter(total)    \n",
    "\n",
    "\n",
    "lista1 = list(set(cuenta1.elements()))\n",
    "lista1.sort()\n",
    "lista2=[]\n",
    "\n",
    "\n",
    "print('Suma','Frecuencia','Probabilidad')\n",
    "for i in range(len(lista1)):\n",
    "    a=lista1[i]\n",
    "    lista2.insert(0,a)\n",
    "    lista2.insert(1,cuenta1[a])\n",
    "    lista2.insert(2,cuenta1[a]/eventos)\n",
    "    print('',a,'      ',cuenta1[a],'     ',cuenta1[a]/eventos)"
   ]
  },
  {
   "cell_type": "code",
   "execution_count": 56,
   "metadata": {},
   "outputs": [
    {
     "name": "stdout",
     "output_type": "stream",
     "text": [
      "\n",
      "10000  Eventos\n",
      " \n",
      "\n",
      "Suma Frecuencia Probabilidad\n",
      " 2        284       0.0284\n",
      " 3        585       0.0585\n",
      " 4        818       0.0818\n",
      " 5        1070       0.107\n",
      " 6        1370       0.137\n",
      " 7        1645       0.1645\n",
      " 8        1431       0.1431\n",
      " 9        1124       0.1124\n",
      " 10        839       0.0839\n",
      " 11        561       0.0561\n",
      " 12        273       0.0273\n"
     ]
    }
   ],
   "source": [
    "total=[]\n",
    "lista=[]\n",
    "print('')\n",
    "eventos=10000\n",
    "print(eventos,' Eventos')\n",
    "print('','\\n')\n",
    "for j in range(eventos):\n",
    "    numero1=np.random.randint(1,7)\n",
    "    numero2=np.random.randint(1,7)\n",
    "    lista.append(numero1)\n",
    "    lista.append(numero2)\n",
    "    suma=numero1+numero2\n",
    "    total.append(suma)\n",
    "    \n",
    "cuenta1 = collections.Counter(total)    \n",
    "\n",
    "\n",
    "lista1 = list(set(cuenta1.elements()))\n",
    "lista1.sort()\n",
    "lista2=[]\n",
    "\n",
    "\n",
    "print('Suma','Frecuencia','Probabilidad')\n",
    "for i in range(len(lista1)):\n",
    "    a=lista1[i]\n",
    "    lista2.insert(0,a)\n",
    "    lista2.insert(1,cuenta1[a])\n",
    "    lista2.insert(2,cuenta1[a]/eventos)\n",
    "    print('',a,'      ',cuenta1[a],'     ',cuenta1[a]/eventos)"
   ]
  },
  {
   "cell_type": "markdown",
   "metadata": {},
   "source": [
    "# Conclusión\n",
    "\n",
    "Se desarrollo un modelo para la simulación para la interrogante de:\n",
    "¿Cuál es la probabilidad de lanzar dos dados y que la suma de sus caras superiores sea 2,3,4,5,6,7,8,9,10,11,12?\n",
    "Si fuera el caso de un juego de apuestas, ¿usted ah que numero apostaría?\n",
    "\n",
    "Con 100 lanzamientos:\n",
    "Suma=6        repeticiones=17       probabilidad=0.17\n",
    "\n",
    "Con 1000 lanzamientos:\n",
    "Suma=7        repeticiones=169       probabilidad=0.169\n",
    "\n",
    "Con 10000 lanzamientos:\n",
    "Suma=7        repeticiones=1728       probabilidad=0.1728\n",
    "\n",
    "Una vez realizada la simulación podemos concluir que los números más probables en salir son los números intermedios, en este caso la probabilidad más grande es de la suma de 6 y 7\n"
   ]
  }
 ],
 "metadata": {
  "kernelspec": {
   "display_name": "Python 3",
   "language": "python",
   "name": "python3"
  },
  "language_info": {
   "codemirror_mode": {
    "name": "ipython",
    "version": 3
   },
   "file_extension": ".py",
   "mimetype": "text/x-python",
   "name": "python",
   "nbconvert_exporter": "python",
   "pygments_lexer": "ipython3",
   "version": "3.7.6"
  }
 },
 "nbformat": 4,
 "nbformat_minor": 4
}
